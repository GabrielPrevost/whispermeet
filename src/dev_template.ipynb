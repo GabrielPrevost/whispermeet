{
 "cells": [
  {
   "cell_type": "markdown",
   "metadata": {},
   "source": [
    "# Developer's Template Notebook\n",
    "\n",
    "This notebook serves as a template for developers to start a new project locally before implementing it into a Django application. Below is a quick guide to help you get started:\n",
    "\n",
    "## Quick Guide\n",
    "\n",
    "1. **Setup Environment**:\n",
    "\n",
    "   - Ensure you have Python and Jupyter Notebook installed.\n",
    "   - Create a virtual environment and activate it using Poetry.\n",
    "   - Install necessary packages using `poetry install`.\n",
    "   - Create a `.env` file to manage environment variables securely.\n",
    "\n",
    "2. **Project Structure**:\n",
    "\n",
    "   - Organize your code into cells for better readability and debugging.\n",
    "   - Use markdown cells to document your workflow and explain your code.\n",
    "\n",
    "3. **Development Workflow**:\n",
    "\n",
    "   - Start by importing necessary libraries and modules.\n",
    "   - Define your variables and functions in separate cells.\n",
    "   - Test your functions locally within the notebook.\n",
    "   - Use markdown cells to describe each step and document your findings.\n",
    "\n",
    "4. **Integration with Django**:\n",
    "\n",
    "   - Once your code is tested and working locally, integrate it into your Django application.\n",
    "   - Follow Django's best practices for adding new features or modules.\n",
    "   - Ensure to write tests for your new code and run them before deployment.\n",
    "\n",
    "5. **Version Control**:\n",
    "\n",
    "   - Use Git for version control.\n",
    "   - Commit your changes frequently with meaningful commit messages.\n",
    "   - Push your changes to a remote repository for collaboration and backup.\n",
    "\n",
    "6. **Notebook File Name Convention**:\n",
    "   - Name your notebook files using the template `dev_<file-name>.ipynb`. Keep the `dev_` prefix and replace `<file-name>` with a descriptive name for your project.\n",
    "\n",
    "By following this guide, you can streamline your development process and ensure a smooth transition from local development to Django application integration.\n",
    "\n",
    "## _You can remove this cell to start working on your notebook._\n"
   ]
  },
  {
   "cell_type": "code",
   "execution_count": null,
   "metadata": {},
   "outputs": [],
   "source": [
    "import os\n",
    "from pathlib import Path"
   ]
  },
  {
   "cell_type": "markdown",
   "metadata": {},
   "source": []
  }
 ],
 "metadata": {
  "language_info": {
   "name": "python"
  }
 },
 "nbformat": 4,
 "nbformat_minor": 2
}
